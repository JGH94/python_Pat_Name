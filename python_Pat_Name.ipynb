{
  "nbformat": 4,
  "nbformat_minor": 0,
  "metadata": {
    "colab": {
      "provenance": [],
      "authorship_tag": "ABX9TyN/0P4BFF3+9P0tAjBdN8YR",
      "include_colab_link": true
    },
    "kernelspec": {
      "name": "python3",
      "display_name": "Python 3"
    },
    "language_info": {
      "name": "python"
    }
  },
  "cells": [
    {
      "cell_type": "markdown",
      "metadata": {
        "id": "view-in-github",
        "colab_type": "text"
      },
      "source": [
        "<a href=\"https://colab.research.google.com/github/JGH94/python_Pat_Name/blob/main/python_Pat_Name.ipynb\" target=\"_parent\"><img src=\"https://colab.research.google.com/assets/colab-badge.svg\" alt=\"Open In Colab\"/></a>"
      ]
    },
    {
      "cell_type": "code",
      "source": [
        "!sudo apt-get install -y fonts-nanum\n",
        "!sudo fc-cache -fv\n",
        "!rm ~/.cache/matplotlib -rf"
      ],
      "metadata": {
        "colab": {
          "base_uri": "https://localhost:8080/"
        },
        "id": "_HrH1MRGLJMR",
        "outputId": "45742e81-8f1d-482d-9f05-e1f0dc92d488"
      },
      "execution_count": 11,
      "outputs": [
        {
          "output_type": "stream",
          "name": "stdout",
          "text": [
            "Reading package lists... Done\n",
            "Building dependency tree       \n",
            "Reading state information... Done\n",
            "The following package was automatically installed and is no longer required:\n",
            "  libnvidia-common-460\n",
            "Use 'sudo apt autoremove' to remove it.\n",
            "The following NEW packages will be installed:\n",
            "  fonts-nanum\n",
            "0 upgraded, 1 newly installed, 0 to remove and 7 not upgraded.\n",
            "Need to get 9,604 kB of archives.\n",
            "After this operation, 29.5 MB of additional disk space will be used.\n",
            "Get:1 http://archive.ubuntu.com/ubuntu bionic/universe amd64 fonts-nanum all 20170925-1 [9,604 kB]\n",
            "Fetched 9,604 kB in 2s (3,871 kB/s)\n",
            "debconf: unable to initialize frontend: Dialog\n",
            "debconf: (No usable dialog-like program is installed, so the dialog based frontend cannot be used. at /usr/share/perl5/Debconf/FrontEnd/Dialog.pm line 76, <> line 1.)\n",
            "debconf: falling back to frontend: Readline\n",
            "debconf: unable to initialize frontend: Readline\n",
            "debconf: (This frontend requires a controlling tty.)\n",
            "debconf: falling back to frontend: Teletype\n",
            "dpkg-preconfigure: unable to re-open stdin: \n",
            "Selecting previously unselected package fonts-nanum.\n",
            "(Reading database ... 124015 files and directories currently installed.)\n",
            "Preparing to unpack .../fonts-nanum_20170925-1_all.deb ...\n",
            "Unpacking fonts-nanum (20170925-1) ...\n",
            "Setting up fonts-nanum (20170925-1) ...\n",
            "Processing triggers for fontconfig (2.12.6-0ubuntu2) ...\n",
            "/usr/share/fonts: caching, new cache contents: 0 fonts, 1 dirs\n",
            "/usr/share/fonts/truetype: caching, new cache contents: 0 fonts, 3 dirs\n",
            "/usr/share/fonts/truetype/humor-sans: caching, new cache contents: 1 fonts, 0 dirs\n",
            "/usr/share/fonts/truetype/liberation: caching, new cache contents: 16 fonts, 0 dirs\n",
            "/usr/share/fonts/truetype/nanum: caching, new cache contents: 10 fonts, 0 dirs\n",
            "/usr/local/share/fonts: caching, new cache contents: 0 fonts, 0 dirs\n",
            "/root/.local/share/fonts: skipping, no such directory\n",
            "/root/.fonts: skipping, no such directory\n",
            "/var/cache/fontconfig: cleaning cache directory\n",
            "/root/.cache/fontconfig: not cleaning non-existent cache directory\n",
            "/root/.fontconfig: not cleaning non-existent cache directory\n",
            "fc-cache: succeeded\n"
          ]
        }
      ]
    },
    {
      "cell_type": "code",
      "execution_count": 11,
      "metadata": {
        "id": "V4pN4DMCBRlX"
      },
      "outputs": [],
      "source": [
        "import pandas as pd\n",
        "import numpy as np\n",
        "import matplotlib.pyplot as plt \n",
        "import warnings \n",
        "from matplotlib import font_manager, rc "
      ]
    },
    {
      "cell_type": "code",
      "source": [
        "Pat_Data_1 = pd.read_excel('/content/sample_data/2020_Pat_Name.xlsx'  ,names = ['Pat_Name','Count_a'] ) \n",
        " \n",
        "Pat_Data_2 = pd.read_csv('/content/sample_data/2020_Pat_Name_Dong.csv',names = ['Pat_Name','Count_b','Date']  ,encoding='cp949') \n",
        " \n",
        "Pat_Data_3 = pd.read_csv('/content/sample_data/2020_Pat_Name_Song.csv',names = ['Pat_Name','Count_c'] , encoding='cp949')\n",
        " \n",
        "Pat_Data_4 = pd.read_csv('/content/sample_data/2020_Pat_Name_Yang.csv',names =  ['Pat_Name','Count_d','Date'] ,encoding='cp949') \n",
        "\n",
        "print(Pat_Data_1.count())\n",
        "print(Pat_Data_1.dtypes) \n",
        "print('-------------------------------')\n",
        "print(Pat_Data_2.count())\n",
        "print(Pat_Data_2.dtypes)\n",
        "print('-------------------------------')\n",
        "print(Pat_Data_3.count())\n",
        "print(Pat_Data_3.dtypes)\n",
        "print('-------------------------------')\n",
        "print(Pat_Data_4.count())\n",
        "print(Pat_Data_4.dtypes)"
      ],
      "metadata": {
        "colab": {
          "base_uri": "https://localhost:8080/"
        },
        "id": "KVK120Pg6OsA",
        "outputId": "9e39c04f-028a-4d89-c6a0-782ce43ef623"
      },
      "execution_count": 7,
      "outputs": [
        {
          "output_type": "stream",
          "name": "stdout",
          "text": [
            "Pat_Name    1353\n",
            "Count_a     1353\n",
            "dtype: int64\n",
            "Pat_Name    object\n",
            "Count_a      int64\n",
            "dtype: object\n",
            "-------------------------------\n",
            "Pat_Name    4870\n",
            "Count_b     4870\n",
            "Date        4870\n",
            "dtype: int64\n",
            "Pat_Name    object\n",
            "Count_b      int64\n",
            "Date        object\n",
            "dtype: object\n",
            "-------------------------------\n",
            "Pat_Name    6527\n",
            "Count_c     6527\n",
            "dtype: int64\n",
            "Pat_Name    object\n",
            "Count_c      int64\n",
            "dtype: object\n",
            "-------------------------------\n",
            "Pat_Name    5074\n",
            "Count_d     5073\n",
            "Date        5074\n",
            "dtype: int64\n",
            "Pat_Name     object\n",
            "Count_d     float64\n",
            "Date         object\n",
            "dtype: object\n"
          ]
        }
      ]
    },
    {
      "cell_type": "code",
      "source": [
        "# 데이터 이름마다의 지역에서 사용하는 개수 데이터 병합 및 null은 0 처리\n",
        "list_1 = pd.merge(left=Pat_Data_3, right=Pat_Data_1, how='left', on=['Pat_Name'], sort=False)\n",
        "list_2 = pd.merge(list_1, right=Pat_Data_4, how='left', on=['Pat_Name'], sort=False)\n",
        "R_list =  pd.merge(list_2, right=Pat_Data_2, how='left', on=['Pat_Name'], sort=False).drop(['Date_x', 'Date_y'], axis=1).fillna(0)\n",
        "# SumCount는 총합!\n",
        "R_list['SumCount'] = R_list['Count_a']+R_list['Count_b']+R_list['Count_c']+R_list['Count_d']\n",
        "print(R_list.count()) "
      ],
      "metadata": {
        "colab": {
          "base_uri": "https://localhost:8080/"
        },
        "id": "oP7YYo-2_fz5",
        "outputId": "e98fc66c-ca5c-41c5-9e37-9ff00f173ec3"
      },
      "execution_count": 8,
      "outputs": [
        {
          "output_type": "stream",
          "name": "stdout",
          "text": [
            "Pat_Name    6854\n",
            "Count_c     6854\n",
            "Count_a     6854\n",
            "Count_d     6854\n",
            "Count_b     6854\n",
            "SumCount    6854\n",
            "dtype: int64\n"
          ]
        }
      ]
    },
    {
      "cell_type": "code",
      "source": [
        "list_Count_R = R_list['SumCount'] >= 10\n",
        "list_Pat_Name_Sum = R_list[list_Count_R]\n",
        "list_Pat_Name_Sum.set_index('Pat_Name', inplace=True)\n",
        "print(list_Pat_Name_Sum.sort_values(by='SumCount', ascending=False)[:20])\n",
        "print('---------------------------------------------------------------------------') \n",
        "print(list_Pat_Name_Sum.sort_values(by='SumCount', ascending=True)[:20])"
      ],
      "metadata": {
        "colab": {
          "base_uri": "https://localhost:8080/"
        },
        "id": "4yxVgIzoNld4",
        "outputId": "6853b48e-4e42-4b46-b884-2f8d558a5168"
      },
      "execution_count": 9,
      "outputs": [
        {
          "output_type": "stream",
          "name": "stdout",
          "text": [
            "          Count_c  Count_a  Count_d  Count_b  SumCount\n",
            "Pat_Name                                              \n",
            "코코            485     19.0    484.0    291.0    1279.0\n",
            "초코            349     12.0    370.0    220.0     951.0\n",
            "보리            346      0.0    364.0    237.0     947.0\n",
            "해피            193      8.0    264.0    161.0     626.0\n",
            "몽이            207     10.0    206.0    118.0     541.0\n",
            "두부            186     16.0    196.0    135.0     533.0\n",
            "똘이            194      4.0    208.0    111.0     517.0\n",
            "콩이            290     21.0      0.0    200.0     511.0\n",
            "토리            175     25.0    199.0    104.0     503.0\n",
            "뭉치            174     14.0    201.0     93.0     482.0\n",
            "쿠키            167     16.0    156.0     82.0     421.0\n",
            "까미            232     10.0      0.0    137.0     379.0\n",
            "토토            156      6.0    132.0     74.0     368.0\n",
            "별             135     16.0    113.0     86.0     350.0\n",
            "아리            130      5.0    113.0     92.0     340.0\n",
            "별이            179     11.0      0.0    147.0     337.0\n",
            "사랑이           189      9.0      0.0    133.0     331.0\n",
            "망고            117     13.0    126.0     74.0     330.0\n",
            "봄             127      6.0    118.0     76.0     327.0\n",
            "레오            123     17.0    126.0     59.0     325.0\n",
            "---------------------------------------------------------------------------\n",
            "          Count_c  Count_a  Count_d  Count_b  SumCount\n",
            "Pat_Name                                              \n",
            "타니              4      0.0      1.0      5.0      10.0\n",
            "대추              5      0.0      1.0      4.0      10.0\n",
            "덩이              3      0.0      5.0      2.0      10.0\n",
            "곤지              5      1.0      0.0      4.0      10.0\n",
            "까치              3      0.0      5.0      2.0      10.0\n",
            "쪼리              3      2.0      4.0      1.0      10.0\n",
            "모아              4      0.0      2.0      4.0      10.0\n",
            "하몽              5      0.0      2.0      3.0      10.0\n",
            "찐빵              3      1.0      2.0      4.0      10.0\n",
            "크리스             6      0.0      0.0      4.0      10.0\n",
            "초록이             3      0.0      7.0      0.0      10.0\n",
            "쿵               6      0.0      4.0      0.0      10.0\n",
            "쪼꼬미             6      0.0      0.0      4.0      10.0\n",
            "카스              3      2.0      2.0      3.0      10.0\n",
            "코지              3      1.0      4.0      2.0      10.0\n",
            "콩자              3      0.0      3.0      4.0      10.0\n",
            "호동이             5      0.0      1.0      4.0      10.0\n",
            "뿡이              4      0.0      4.0      2.0      10.0\n",
            "푸치              3      0.0      5.0      2.0      10.0\n",
            "하얀이             3      0.0      4.0      3.0      10.0\n"
          ]
        }
      ]
    },
    {
      "cell_type": "code",
      "source": [
        "warnings.filterwarnings( \"ignore\", module = \"matplotlib\\..*\" )\n",
        "# Data 시각화 상위 20개\n",
        "df_R_D = list_Pat_Name_Sum.sort_values(by='SumCount', ascending=False)[:20]\n",
        "df_R_A = list_Pat_Name_Sum.sort_values(by='SumCount', ascending=True)[:20] \n",
        "X_ = []\n",
        "Y_ = [] \n",
        "x_ = np.arange(20)\n",
        "title_font = {\n",
        "    'fontsize': 16,\n",
        "    'fontweight': 'bold'\n",
        "}\n",
        "\n",
        "for i in range(0,df_R_D['SumCount'].count()):\n",
        "  X_.append(df_R_D['SumCount'].index[i])\n",
        "  Y_.append(df_R_D['SumCount'][i])  \n",
        "plt.rc('font', family='NanumBarunGothic')\n",
        "plt.barh(x_, Y_, height = 0.8)   \n",
        "plt.title('Pat Name Count', fontdict=title_font, loc='left', pad=10)\n",
        "plt.yticks(x_, X_)\n",
        "plt.show()"
      ],
      "metadata": {
        "colab": {
          "base_uri": "https://localhost:8080/",
          "height": 288
        },
        "id": "l5h1Zt59anVm",
        "outputId": "726f6336-7301-4d45-96d5-dced1c533319"
      },
      "execution_count": 14,
      "outputs": [
        {
          "output_type": "display_data",
          "data": {
            "text/plain": [
              "<Figure size 432x288 with 1 Axes>"
            ],
            "image/png": "[encoded data removed]"
          },
          "metadata": {
            "needs_background": "light"
          }
        }
      ]
    },
    {
      "cell_type": "code",
      "source": [
        "# 10개 이상 데이터 하위 20개 조회\n",
        "X_ = []\n",
        "Y_ = [] \n",
        "x_ = np.arange(20)\n",
        "title_font = {\n",
        "    'fontsize': 16,\n",
        "    'fontweight': 'bold'\n",
        "}\n",
        "\n",
        "for i in range(0,df_R_A['SumCount'].count()):\n",
        "  X_.append(df_R_A['SumCount'].index[i])\n",
        "  Y_.append(df_R_A['SumCount'][i])  \n",
        "plt.rc('font', family='NanumBarunGothic')\n",
        "plt.barh(x_, Y_, height = 0.8)   \n",
        "plt.title('Pat Name Count', fontdict=title_font, loc='left', pad=10)\n",
        "plt.yticks(x_, X_)\n",
        "plt.show()"
      ],
      "metadata": {
        "colab": {
          "base_uri": "https://localhost:8080/",
          "height": 288
        },
        "id": "5e6BUKXdgnme",
        "outputId": "e7c03cc9-2382-4edc-d4ad-0e578efffaad"
      },
      "execution_count": 15,
      "outputs": [
        {
          "output_type": "display_data",
          "data": {
            "text/plain": [
              "<Figure size 432x288 with 1 Axes>"
            ],
            "image/png": "[encoded data removed]"
          },
          "metadata": {
            "needs_background": "light"
          }
        }
      ]
    },
    {
      "cell_type": "markdown",
      "source": [],
      "metadata": {
        "id": "DsC3my2E9XAn"
      }
    }
  ]
}